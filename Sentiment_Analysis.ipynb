{
 "cells": [
  {
   "cell_type": "markdown",
   "metadata": {
    "id": "9Iq1YSdwdTiy"
   },
   "source": [
    "# APPLICATION OF NLP FOR E-COMMERCE REVIEW SENTIMENT"
   ]
  },
  {
   "cell_type": "markdown",
   "metadata": {
    "id": "wFW82pEcdWjc"
   },
   "source": [
    "## Data Collecting"
   ]
  },
  {
   "cell_type": "code",
   "execution_count": 42,
   "metadata": {
    "colab": {
     "base_uri": "https://localhost:8080/"
    },
    "executionInfo": {
     "elapsed": 5010,
     "status": "ok",
     "timestamp": 1754357194948,
     "user": {
      "displayName": "Raka Arrayan",
      "userId": "02832028816008534409"
     },
     "user_tz": -420
    },
    "id": "xGDNMkVidANL",
    "outputId": "1a42ee3c-83cb-4da9-9e53-b1572ce1706b"
   },
   "outputs": [
    {
     "name": "stdout",
     "output_type": "stream",
     "text": [
      "Requirement already satisfied: Sastrawi in c:\\users\\rifqi\\appdata\\local\\programs\\python\\python312\\lib\\site-packages (1.0.1)\n"
     ]
    },
    {
     "name": "stderr",
     "output_type": "stream",
     "text": [
      "\n",
      "[notice] A new release of pip is available: 24.0 -> 25.2\n",
      "[notice] To update, run: python.exe -m pip install --upgrade pip\n"
     ]
    }
   ],
   "source": [
    "! pip install Sastrawi\n",
    "from sklearn.pipeline import Pipeline\n",
    "from Sastrawi.Stemmer.StemmerFactory import StemmerFactory"
   ]
  },
  {
   "cell_type": "code",
   "execution_count": 43,
   "metadata": {
    "colab": {
     "base_uri": "https://localhost:8080/"
    },
    "executionInfo": {
     "elapsed": 12070,
     "status": "ok",
     "timestamp": 1754357207022,
     "user": {
      "displayName": "Raka Arrayan",
      "userId": "02832028816008534409"
     },
     "user_tz": -420
    },
    "id": "cMYgbDtcdbNs",
    "outputId": "cfa6e25e-e74f-4c1c-9d83-64a051d84422"
   },
   "outputs": [
    {
     "name": "stdout",
     "output_type": "stream",
     "text": [
      "Note: you may need to restart the kernel to use updated packages.\n"
     ]
    },
    {
     "name": "stderr",
     "output_type": "stream",
     "text": [
      "ERROR: Invalid requirement: '#library'\n",
      "\n",
      "[notice] A new release of pip is available: 24.0 -> 25.1.1\n",
      "[notice] To update, run: python.exe -m pip install --upgrade pip\n"
     ]
    }
   ],
   "source": [
    "pip install nltk; #library untuk NLP"
   ]
  },
  {
   "cell_type": "code",
   "execution_count": 44,
   "metadata": {
    "colab": {
     "base_uri": "https://localhost:8080/"
    },
    "executionInfo": {
     "elapsed": 59,
     "status": "ok",
     "timestamp": 1754357207084,
     "user": {
      "displayName": "Raka Arrayan",
      "userId": "02832028816008534409"
     },
     "user_tz": -420
    },
    "id": "U_fntFYCdigh",
    "outputId": "202beec0-b58c-40de-b39c-371616bb4676"
   },
   "outputs": [
    {
     "name": "stderr",
     "output_type": "stream",
     "text": [
      "[nltk_data] Downloading package stopwords to\n",
      "[nltk_data]     C:\\Users\\rifqi\\AppData\\Roaming\\nltk_data...\n",
      "[nltk_data]   Package stopwords is already up-to-date!\n",
      "[nltk_data] Downloading package punkt to\n",
      "[nltk_data]     C:\\Users\\rifqi\\AppData\\Roaming\\nltk_data...\n",
      "[nltk_data]   Package punkt is already up-to-date!\n"
     ]
    }
   ],
   "source": [
    "import pandas as pd\n",
    "import numpy as np\n",
    "import matplotlib.pyplot as plt\n",
    "import seaborn as sns\n",
    "\n",
    "import re # Regular Expression untuk membersihkan teks\n",
    "\n",
    "import nltk\n",
    "nltk.download('stopwords') # mengunduh kata kata umum seperti the,is,etc.\n",
    "nltk.download('punkt') # mengunduh tokenizer untuk memecah teks menjadi kata-kata.\n",
    "from nltk.corpus import stopwords # Mengimpor kumpulan stopwords untuk digunakan nanti saat membersihkan teks.\n",
    "from nltk.stem import WordNetLemmatizer # mengimpor kata untuk lemmatisasi yaitu mengubah kata ke bentuk dasar."
   ]
  },
  {
   "cell_type": "code",
   "execution_count": 45,
   "metadata": {
    "colab": {
     "base_uri": "https://localhost:8080/",
     "height": 504
    },
    "executionInfo": {
     "elapsed": 144,
     "status": "ok",
     "timestamp": 1754357207231,
     "user": {
      "displayName": "Raka Arrayan",
      "userId": "02832028816008534409"
     },
     "user_tz": -420
    },
    "id": "bOsvyfRZdp8i",
    "outputId": "317d52c3-590e-44bd-aa59-dc58419cbeff"
   },
   "outputs": [
    {
     "data": {
      "text/html": [
       "<div>\n",
       "<style scoped>\n",
       "    .dataframe tbody tr th:only-of-type {\n",
       "        vertical-align: middle;\n",
       "    }\n",
       "\n",
       "    .dataframe tbody tr th {\n",
       "        vertical-align: top;\n",
       "    }\n",
       "\n",
       "    .dataframe thead th {\n",
       "        text-align: right;\n",
       "    }\n",
       "</style>\n",
       "<table border=\"1\" class=\"dataframe\">\n",
       "  <thead>\n",
       "    <tr style=\"text-align: right;\">\n",
       "      <th></th>\n",
       "      <th>Unnamed: 0</th>\n",
       "      <th>reviewerName</th>\n",
       "      <th>overall</th>\n",
       "      <th>reviewText</th>\n",
       "      <th>reviewTime</th>\n",
       "      <th>day_diff</th>\n",
       "      <th>helpful_yes</th>\n",
       "      <th>helpful_no</th>\n",
       "      <th>total_vote</th>\n",
       "      <th>score_pos_neg_diff</th>\n",
       "      <th>score_average_rating</th>\n",
       "      <th>wilson_lower_bound</th>\n",
       "    </tr>\n",
       "  </thead>\n",
       "  <tbody>\n",
       "    <tr>\n",
       "      <th>0</th>\n",
       "      <td>0</td>\n",
       "      <td>NaN</td>\n",
       "      <td>4.0</td>\n",
       "      <td>No issues.</td>\n",
       "      <td>2014-07-23</td>\n",
       "      <td>138</td>\n",
       "      <td>0</td>\n",
       "      <td>0</td>\n",
       "      <td>0</td>\n",
       "      <td>0</td>\n",
       "      <td>0.0</td>\n",
       "      <td>0.0</td>\n",
       "    </tr>\n",
       "    <tr>\n",
       "      <th>1</th>\n",
       "      <td>1</td>\n",
       "      <td>0mie</td>\n",
       "      <td>5.0</td>\n",
       "      <td>Purchased this for my device, it worked as adv...</td>\n",
       "      <td>2013-10-25</td>\n",
       "      <td>409</td>\n",
       "      <td>0</td>\n",
       "      <td>0</td>\n",
       "      <td>0</td>\n",
       "      <td>0</td>\n",
       "      <td>0.0</td>\n",
       "      <td>0.0</td>\n",
       "    </tr>\n",
       "    <tr>\n",
       "      <th>2</th>\n",
       "      <td>2</td>\n",
       "      <td>1K3</td>\n",
       "      <td>4.0</td>\n",
       "      <td>it works as expected. I should have sprung for...</td>\n",
       "      <td>2012-12-23</td>\n",
       "      <td>715</td>\n",
       "      <td>0</td>\n",
       "      <td>0</td>\n",
       "      <td>0</td>\n",
       "      <td>0</td>\n",
       "      <td>0.0</td>\n",
       "      <td>0.0</td>\n",
       "    </tr>\n",
       "    <tr>\n",
       "      <th>3</th>\n",
       "      <td>3</td>\n",
       "      <td>1m2</td>\n",
       "      <td>5.0</td>\n",
       "      <td>This think has worked out great.Had a diff. br...</td>\n",
       "      <td>2013-11-21</td>\n",
       "      <td>382</td>\n",
       "      <td>0</td>\n",
       "      <td>0</td>\n",
       "      <td>0</td>\n",
       "      <td>0</td>\n",
       "      <td>0.0</td>\n",
       "      <td>0.0</td>\n",
       "    </tr>\n",
       "    <tr>\n",
       "      <th>4</th>\n",
       "      <td>4</td>\n",
       "      <td>2&amp;amp;1/2Men</td>\n",
       "      <td>5.0</td>\n",
       "      <td>Bought it with Retail Packaging, arrived legit...</td>\n",
       "      <td>2013-07-13</td>\n",
       "      <td>513</td>\n",
       "      <td>0</td>\n",
       "      <td>0</td>\n",
       "      <td>0</td>\n",
       "      <td>0</td>\n",
       "      <td>0.0</td>\n",
       "      <td>0.0</td>\n",
       "    </tr>\n",
       "  </tbody>\n",
       "</table>\n",
       "</div>"
      ],
      "text/plain": [
       "   Unnamed: 0  reviewerName  overall  \\\n",
       "0           0           NaN      4.0   \n",
       "1           1          0mie      5.0   \n",
       "2           2           1K3      4.0   \n",
       "3           3           1m2      5.0   \n",
       "4           4  2&amp;1/2Men      5.0   \n",
       "\n",
       "                                          reviewText  reviewTime  day_diff  \\\n",
       "0                                         No issues.  2014-07-23       138   \n",
       "1  Purchased this for my device, it worked as adv...  2013-10-25       409   \n",
       "2  it works as expected. I should have sprung for...  2012-12-23       715   \n",
       "3  This think has worked out great.Had a diff. br...  2013-11-21       382   \n",
       "4  Bought it with Retail Packaging, arrived legit...  2013-07-13       513   \n",
       "\n",
       "   helpful_yes  helpful_no  total_vote  score_pos_neg_diff  \\\n",
       "0            0           0           0                   0   \n",
       "1            0           0           0                   0   \n",
       "2            0           0           0                   0   \n",
       "3            0           0           0                   0   \n",
       "4            0           0           0                   0   \n",
       "\n",
       "   score_average_rating  wilson_lower_bound  \n",
       "0                   0.0                 0.0  \n",
       "1                   0.0                 0.0  \n",
       "2                   0.0                 0.0  \n",
       "3                   0.0                 0.0  \n",
       "4                   0.0                 0.0  "
      ]
     },
     "execution_count": 45,
     "metadata": {},
     "output_type": "execute_result"
    }
   ],
   "source": [
    "df= pd.read_csv('amazon_reviews.csv')\n",
    "df.head()"
   ]
  },
  {
   "cell_type": "markdown",
   "metadata": {
    "id": "5uwYTMkceP8V"
   },
   "source": [
    "## Exploratory Data analysis"
   ]
  },
  {
   "cell_type": "code",
   "execution_count": 46,
   "metadata": {
    "colab": {
     "base_uri": "https://localhost:8080/"
    },
    "executionInfo": {
     "elapsed": 20,
     "status": "ok",
     "timestamp": 1754357207254,
     "user": {
      "displayName": "Raka Arrayan",
      "userId": "02832028816008534409"
     },
     "user_tz": -420
    },
    "id": "2mpH2e5beHz3",
    "outputId": "b4f0efb7-853e-4425-dc41-2ebad42c1b4a"
   },
   "outputs": [
    {
     "data": {
      "text/plain": [
       "(4915, 12)"
      ]
     },
     "execution_count": 46,
     "metadata": {},
     "output_type": "execute_result"
    }
   ],
   "source": [
    "df.shape #  Melihat dimensi dari DataFrame."
   ]
  },
  {
   "cell_type": "code",
   "execution_count": 47,
   "metadata": {
    "colab": {
     "base_uri": "https://localhost:8080/"
    },
    "executionInfo": {
     "elapsed": 88,
     "status": "ok",
     "timestamp": 1754357207426,
     "user": {
      "displayName": "Raka Arrayan",
      "userId": "02832028816008534409"
     },
     "user_tz": -420
    },
    "id": "kQIFZhb5eR9l",
    "outputId": "21c2e20f-4de5-4c4d-d821-6465e0bc9b70"
   },
   "outputs": [
    {
     "name": "stdout",
     "output_type": "stream",
     "text": [
      "<class 'pandas.core.frame.DataFrame'>\n",
      "RangeIndex: 4915 entries, 0 to 4914\n",
      "Data columns (total 12 columns):\n",
      " #   Column                Non-Null Count  Dtype  \n",
      "---  ------                --------------  -----  \n",
      " 0   Unnamed: 0            4915 non-null   int64  \n",
      " 1   reviewerName          4914 non-null   object \n",
      " 2   overall               4915 non-null   float64\n",
      " 3   reviewText            4914 non-null   object \n",
      " 4   reviewTime            4915 non-null   object \n",
      " 5   day_diff              4915 non-null   int64  \n",
      " 6   helpful_yes           4915 non-null   int64  \n",
      " 7   helpful_no            4915 non-null   int64  \n",
      " 8   total_vote            4915 non-null   int64  \n",
      " 9   score_pos_neg_diff    4915 non-null   int64  \n",
      " 10  score_average_rating  4915 non-null   float64\n",
      " 11  wilson_lower_bound    4915 non-null   float64\n",
      "dtypes: float64(3), int64(6), object(3)\n",
      "memory usage: 460.9+ KB\n"
     ]
    }
   ],
   "source": [
    "df.info()#  Menampilkan informasi ringkas tentang sebuah DataFrame"
   ]
  },
  {
   "cell_type": "code",
   "execution_count": 48,
   "metadata": {
    "colab": {
     "base_uri": "https://localhost:8080/",
     "height": 300
    },
    "executionInfo": {
     "elapsed": 86,
     "status": "ok",
     "timestamp": 1754357207508,
     "user": {
      "displayName": "Raka Arrayan",
      "userId": "02832028816008534409"
     },
     "user_tz": -420
    },
    "id": "k9NJcQ97eTGt",
    "outputId": "9ce957c7-3e93-4de1-8ba2-ba50ff6240cf"
   },
   "outputs": [
    {
     "data": {
      "text/html": [
       "<div>\n",
       "<style scoped>\n",
       "    .dataframe tbody tr th:only-of-type {\n",
       "        vertical-align: middle;\n",
       "    }\n",
       "\n",
       "    .dataframe tbody tr th {\n",
       "        vertical-align: top;\n",
       "    }\n",
       "\n",
       "    .dataframe thead th {\n",
       "        text-align: right;\n",
       "    }\n",
       "</style>\n",
       "<table border=\"1\" class=\"dataframe\">\n",
       "  <thead>\n",
       "    <tr style=\"text-align: right;\">\n",
       "      <th></th>\n",
       "      <th>Unnamed: 0</th>\n",
       "      <th>overall</th>\n",
       "      <th>day_diff</th>\n",
       "      <th>helpful_yes</th>\n",
       "      <th>helpful_no</th>\n",
       "      <th>total_vote</th>\n",
       "      <th>score_pos_neg_diff</th>\n",
       "      <th>score_average_rating</th>\n",
       "      <th>wilson_lower_bound</th>\n",
       "    </tr>\n",
       "  </thead>\n",
       "  <tbody>\n",
       "    <tr>\n",
       "      <th>count</th>\n",
       "      <td>4915.000000</td>\n",
       "      <td>4915.000000</td>\n",
       "      <td>4915.000000</td>\n",
       "      <td>4915.000000</td>\n",
       "      <td>4915.000000</td>\n",
       "      <td>4915.000000</td>\n",
       "      <td>4915.000000</td>\n",
       "      <td>4915.000000</td>\n",
       "      <td>4915.000000</td>\n",
       "    </tr>\n",
       "    <tr>\n",
       "      <th>mean</th>\n",
       "      <td>2457.000000</td>\n",
       "      <td>4.587589</td>\n",
       "      <td>437.367040</td>\n",
       "      <td>1.311089</td>\n",
       "      <td>0.210376</td>\n",
       "      <td>1.521465</td>\n",
       "      <td>1.100712</td>\n",
       "      <td>0.075468</td>\n",
       "      <td>0.020053</td>\n",
       "    </tr>\n",
       "    <tr>\n",
       "      <th>std</th>\n",
       "      <td>1418.982617</td>\n",
       "      <td>0.996845</td>\n",
       "      <td>209.439871</td>\n",
       "      <td>41.619161</td>\n",
       "      <td>4.023296</td>\n",
       "      <td>44.123095</td>\n",
       "      <td>39.367949</td>\n",
       "      <td>0.256062</td>\n",
       "      <td>0.077187</td>\n",
       "    </tr>\n",
       "    <tr>\n",
       "      <th>min</th>\n",
       "      <td>0.000000</td>\n",
       "      <td>1.000000</td>\n",
       "      <td>1.000000</td>\n",
       "      <td>0.000000</td>\n",
       "      <td>0.000000</td>\n",
       "      <td>0.000000</td>\n",
       "      <td>-130.000000</td>\n",
       "      <td>0.000000</td>\n",
       "      <td>0.000000</td>\n",
       "    </tr>\n",
       "    <tr>\n",
       "      <th>25%</th>\n",
       "      <td>1228.500000</td>\n",
       "      <td>5.000000</td>\n",
       "      <td>281.000000</td>\n",
       "      <td>0.000000</td>\n",
       "      <td>0.000000</td>\n",
       "      <td>0.000000</td>\n",
       "      <td>0.000000</td>\n",
       "      <td>0.000000</td>\n",
       "      <td>0.000000</td>\n",
       "    </tr>\n",
       "    <tr>\n",
       "      <th>50%</th>\n",
       "      <td>2457.000000</td>\n",
       "      <td>5.000000</td>\n",
       "      <td>431.000000</td>\n",
       "      <td>0.000000</td>\n",
       "      <td>0.000000</td>\n",
       "      <td>0.000000</td>\n",
       "      <td>0.000000</td>\n",
       "      <td>0.000000</td>\n",
       "      <td>0.000000</td>\n",
       "    </tr>\n",
       "    <tr>\n",
       "      <th>75%</th>\n",
       "      <td>3685.500000</td>\n",
       "      <td>5.000000</td>\n",
       "      <td>601.000000</td>\n",
       "      <td>0.000000</td>\n",
       "      <td>0.000000</td>\n",
       "      <td>0.000000</td>\n",
       "      <td>0.000000</td>\n",
       "      <td>0.000000</td>\n",
       "      <td>0.000000</td>\n",
       "    </tr>\n",
       "    <tr>\n",
       "      <th>max</th>\n",
       "      <td>4914.000000</td>\n",
       "      <td>5.000000</td>\n",
       "      <td>1064.000000</td>\n",
       "      <td>1952.000000</td>\n",
       "      <td>183.000000</td>\n",
       "      <td>2020.000000</td>\n",
       "      <td>1884.000000</td>\n",
       "      <td>1.000000</td>\n",
       "      <td>0.957544</td>\n",
       "    </tr>\n",
       "  </tbody>\n",
       "</table>\n",
       "</div>"
      ],
      "text/plain": [
       "        Unnamed: 0      overall     day_diff  helpful_yes   helpful_no  \\\n",
       "count  4915.000000  4915.000000  4915.000000  4915.000000  4915.000000   \n",
       "mean   2457.000000     4.587589   437.367040     1.311089     0.210376   \n",
       "std    1418.982617     0.996845   209.439871    41.619161     4.023296   \n",
       "min       0.000000     1.000000     1.000000     0.000000     0.000000   \n",
       "25%    1228.500000     5.000000   281.000000     0.000000     0.000000   \n",
       "50%    2457.000000     5.000000   431.000000     0.000000     0.000000   \n",
       "75%    3685.500000     5.000000   601.000000     0.000000     0.000000   \n",
       "max    4914.000000     5.000000  1064.000000  1952.000000   183.000000   \n",
       "\n",
       "        total_vote  score_pos_neg_diff  score_average_rating  \\\n",
       "count  4915.000000         4915.000000           4915.000000   \n",
       "mean      1.521465            1.100712              0.075468   \n",
       "std      44.123095           39.367949              0.256062   \n",
       "min       0.000000         -130.000000              0.000000   \n",
       "25%       0.000000            0.000000              0.000000   \n",
       "50%       0.000000            0.000000              0.000000   \n",
       "75%       0.000000            0.000000              0.000000   \n",
       "max    2020.000000         1884.000000              1.000000   \n",
       "\n",
       "       wilson_lower_bound  \n",
       "count         4915.000000  \n",
       "mean             0.020053  \n",
       "std              0.077187  \n",
       "min              0.000000  \n",
       "25%              0.000000  \n",
       "50%              0.000000  \n",
       "75%              0.000000  \n",
       "max              0.957544  "
      ]
     },
     "execution_count": 48,
     "metadata": {},
     "output_type": "execute_result"
    }
   ],
   "source": [
    "df.describe()# Menampilkan statistik deskriptif dari kolom-kolom numerik"
   ]
  },
  {
   "cell_type": "code",
   "execution_count": 49,
   "metadata": {
    "colab": {
     "base_uri": "https://localhost:8080/",
     "height": 460
    },
    "executionInfo": {
     "elapsed": 62,
     "status": "ok",
     "timestamp": 1754357207511,
     "user": {
      "displayName": "Raka Arrayan",
      "userId": "02832028816008534409"
     },
     "user_tz": -420
    },
    "id": "rwGARH5IeU_q",
    "outputId": "e129a25c-9364-4fe7-c9f7-ed6b54babd4f"
   },
   "outputs": [
    {
     "data": {
      "text/plain": [
       "Unnamed: 0              0\n",
       "reviewerName            1\n",
       "overall                 0\n",
       "reviewText              1\n",
       "reviewTime              0\n",
       "day_diff                0\n",
       "helpful_yes             0\n",
       "helpful_no              0\n",
       "total_vote              0\n",
       "score_pos_neg_diff      0\n",
       "score_average_rating    0\n",
       "wilson_lower_bound      0\n",
       "dtype: int64"
      ]
     },
     "execution_count": 49,
     "metadata": {},
     "output_type": "execute_result"
    }
   ],
   "source": [
    "df.isna().sum()#Mengetahui jumlah nilai kosong (missing values / NaN) di setiap kolom"
   ]
  },
  {
   "cell_type": "code",
   "execution_count": 50,
   "metadata": {
    "colab": {
     "base_uri": "https://localhost:8080/",
     "height": 460
    },
    "executionInfo": {
     "elapsed": 56,
     "status": "ok",
     "timestamp": 1754357207567,
     "user": {
      "displayName": "Raka Arrayan",
      "userId": "02832028816008534409"
     },
     "user_tz": -420
    },
    "id": "4Dz0mt7SeWhk",
    "outputId": "c8a9cd5f-7791-4ad7-8156-54cd7db3916b"
   },
   "outputs": [
    {
     "data": {
      "text/plain": [
       "Unnamed: 0              0\n",
       "reviewerName            0\n",
       "overall                 0\n",
       "reviewText              0\n",
       "reviewTime              0\n",
       "day_diff                0\n",
       "helpful_yes             0\n",
       "helpful_no              0\n",
       "total_vote              0\n",
       "score_pos_neg_diff      0\n",
       "score_average_rating    0\n",
       "wilson_lower_bound      0\n",
       "dtype: int64"
      ]
     },
     "execution_count": 50,
     "metadata": {},
     "output_type": "execute_result"
    }
   ],
   "source": [
    "df.dropna(subset=['reviewerName', 'reviewText'], inplace=True)# Menghapus baris yang memiliki NaN (kosong) di kolom reviewerName atau reviewText\n",
    "df.isna().sum()#  Menampilkan jumlah NaN yang tersisa di setiap kolom"
   ]
  },
  {
   "cell_type": "markdown",
   "metadata": {
    "id": "2PZdM_fPefAK"
   },
   "source": [
    "### Ambil dua kolom penting"
   ]
  },
  {
   "cell_type": "code",
   "execution_count": 51,
   "metadata": {
    "executionInfo": {
     "elapsed": 3,
     "status": "ok",
     "timestamp": 1754357207573,
     "user": {
      "displayName": "Raka Arrayan",
      "userId": "02832028816008534409"
     },
     "user_tz": -420
    },
    "id": "mO2IWbOYeYHH"
   },
   "outputs": [],
   "source": [
    "df = df[['reviewText', 'overall']]"
   ]
  },
  {
   "cell_type": "markdown",
   "metadata": {
    "id": "vNP_w7CQepHL"
   },
   "source": [
    "### Cek Distribusi Rating"
   ]
  },
  {
   "cell_type": "code",
   "execution_count": 52,
   "metadata": {
    "colab": {
     "base_uri": "https://localhost:8080/",
     "height": 472
    },
    "executionInfo": {
     "elapsed": 49,
     "status": "ok",
     "timestamp": 1754357207624,
     "user": {
      "displayName": "Raka Arrayan",
      "userId": "02832028816008534409"
     },
     "user_tz": -420
    },
    "id": "jxfqTbyfegsL",
    "outputId": "2d9cce83-f94d-41b7-caaf-a080dc7d8380"
   },
   "outputs": [
    {
     "data": {
      "image/png": "[encoded data removed]",
      "text/plain": [
       "<Figure size 640x480 with 1 Axes>"
      ]
     },
     "metadata": {},
     "output_type": "display_data"
    }
   ],
   "source": [
    "import seaborn as sns\n",
    "import matplotlib.pyplot as plt\n",
    "\n",
    "sns.countplot(x='overall', data=df)\n",
    "plt.title('Distribusi Rating (Overall)')\n",
    "plt.xlabel('Rating')\n",
    "plt.ylabel('Jumlah Review')\n",
    "plt.show()"
   ]
  },
  {
   "cell_type": "markdown",
   "metadata": {
    "id": "RwlNm5Nrewk_"
   },
   "source": [
    "### Membuat Kolom Sentimen (Labeling) dari overall dan melihat persebarannya"
   ]
  },
  {
   "cell_type": "code",
   "execution_count": 53,
   "metadata": {
    "executionInfo": {
     "elapsed": 9,
     "status": "ok",
     "timestamp": 1754357207643,
     "user": {
      "displayName": "Raka Arrayan",
      "userId": "02832028816008534409"
     },
     "user_tz": -420
    },
    "id": "INcjmS5Eere1"
   },
   "outputs": [],
   "source": [
    "def label_sentiment(rating):\n",
    "    if rating <= 2:\n",
    "        return 'negatif'\n",
    "    elif rating == 3:\n",
    "        return 'netral'\n",
    "    else:\n",
    "        return 'positif'\n",
    "\n",
    "df['sentimen'] = df['overall'].apply(label_sentiment)# Menerapkan fungsi ke setiap nilai pada kolom overall\n"
   ]
  },
  {
   "cell_type": "code",
   "execution_count": 54,
   "metadata": {
    "colab": {
     "base_uri": "https://localhost:8080/",
     "height": 472
    },
    "executionInfo": {
     "elapsed": 321,
     "status": "ok",
     "timestamp": 1754357207972,
     "user": {
      "displayName": "Raka Arrayan",
      "userId": "02832028816008534409"
     },
     "user_tz": -420
    },
    "id": "TNYyhfNCe1St",
    "outputId": "2c49031a-8f5d-450b-b30e-0c16cbf03811"
   },
   "outputs": [
    {
     "data": {
      "image/png": "[encoded data removed]",
      "text/plain": [
       "<Figure size 640x480 with 1 Axes>"
      ]
     },
     "metadata": {},
     "output_type": "display_data"
    }
   ],
   "source": [
    "sns.countplot(x='sentimen', data=df, order=['negatif', 'netral', 'positif'])\n",
    "plt.title('Distribusi Sentimen Berdasarkan Rating')\n",
    "plt.show()"
   ]
  },
  {
   "cell_type": "markdown",
   "metadata": {
    "id": "qiAkIf4qe9cn"
   },
   "source": [
    "### Tambahkan Kolom Panjang Teks Review dan melihat persebarannya"
   ]
  },
  {
   "cell_type": "code",
   "execution_count": 55,
   "metadata": {
    "colab": {
     "base_uri": "https://localhost:8080/",
     "height": 472
    },
    "executionInfo": {
     "elapsed": 351,
     "status": "ok",
     "timestamp": 1754357208316,
     "user": {
      "displayName": "Raka Arrayan",
      "userId": "02832028816008534409"
     },
     "user_tz": -420
    },
    "id": "fXgvn_Cye3vk",
    "outputId": "f0f12496-3c85-4aa9-b854-1bdc46cd9866"
   },
   "outputs": [
    {
     "data": {
      "image/png": "[encoded data removed]",
      "text/plain": [
       "<Figure size 640x480 with 1 Axes>"
      ]
     },
     "metadata": {},
     "output_type": "display_data"
    }
   ],
   "source": [
    "df['review_length'] = df['reviewText'].apply(lambda x: len(str(x)))\n",
    "sns.histplot(df['review_length'], bins=50, kde=True)\n",
    "plt.title('Distribusi Panjang Teks Review')\n",
    "plt.xlabel('Jumlah Karakter')\n",
    "plt.ylabel('Jumlah Review')\n",
    "plt.show()\n"
   ]
  },
  {
   "cell_type": "code",
   "execution_count": 56,
   "metadata": {},
   "outputs": [
    {
     "name": "stdout",
     "output_type": "stream",
     "text": [
      "267.7999185833503\n"
     ]
    }
   ],
   "source": [
    "print(df['review_length'].mean())# Melihat rata-rata panjang review\n"
   ]
  },
  {
   "cell_type": "markdown",
   "metadata": {
    "id": "H7Qh630zfGxo"
   },
   "source": [
    "### Melihat Rata-rata Panjang Review per Label Sentimen"
   ]
  },
  {
   "cell_type": "code",
   "execution_count": 57,
   "metadata": {
    "colab": {
     "base_uri": "https://localhost:8080/",
     "height": 507
    },
    "executionInfo": {
     "elapsed": 244,
     "status": "ok",
     "timestamp": 1754357208557,
     "user": {
      "displayName": "Raka Arrayan",
      "userId": "02832028816008534409"
     },
     "user_tz": -420
    },
    "id": "cact1Ij3e_l-",
    "outputId": "9a6421f6-5475-4090-844d-6c85dc314a0e"
   },
   "outputs": [
    {
     "data": {
      "image/png": "[encoded data removed]",
      "text/plain": [
       "<Figure size 640x480 with 1 Axes>"
      ]
     },
     "metadata": {},
     "output_type": "display_data"
    }
   ],
   "source": [
    "df.groupby('sentimen')['review_length'].mean().plot(kind='bar', color='skyblue')\n",
    "plt.title('Rata-rata Panjang Review per Sentimen')\n",
    "plt.ylabel('Rata-rata Jumlah Karakter')\n",
    "plt.show()\n"
   ]
  },
  {
   "cell_type": "code",
   "execution_count": 58,
   "metadata": {
    "colab": {
     "base_uri": "https://localhost:8080/",
     "height": 206
    },
    "executionInfo": {
     "elapsed": 78,
     "status": "ok",
     "timestamp": 1754357208636,
     "user": {
      "displayName": "Raka Arrayan",
      "userId": "02832028816008534409"
     },
     "user_tz": -420
    },
    "id": "1B7t-AJofNN7",
    "outputId": "1a2d7bac-3ddd-47a9-d1ea-c5d8b349cdfd"
   },
   "outputs": [
    {
     "data": {
      "text/html": [
       "<div>\n",
       "<style scoped>\n",
       "    .dataframe tbody tr th:only-of-type {\n",
       "        vertical-align: middle;\n",
       "    }\n",
       "\n",
       "    .dataframe tbody tr th {\n",
       "        vertical-align: top;\n",
       "    }\n",
       "\n",
       "    .dataframe thead th {\n",
       "        text-align: right;\n",
       "    }\n",
       "</style>\n",
       "<table border=\"1\" class=\"dataframe\">\n",
       "  <thead>\n",
       "    <tr style=\"text-align: right;\">\n",
       "      <th></th>\n",
       "      <th>reviewText</th>\n",
       "      <th>overall</th>\n",
       "      <th>sentimen</th>\n",
       "      <th>review_length</th>\n",
       "    </tr>\n",
       "  </thead>\n",
       "  <tbody>\n",
       "    <tr>\n",
       "      <th>1</th>\n",
       "      <td>Purchased this for my device, it worked as adv...</td>\n",
       "      <td>5.0</td>\n",
       "      <td>positif</td>\n",
       "      <td>158</td>\n",
       "    </tr>\n",
       "    <tr>\n",
       "      <th>2</th>\n",
       "      <td>it works as expected. I should have sprung for...</td>\n",
       "      <td>4.0</td>\n",
       "      <td>positif</td>\n",
       "      <td>166</td>\n",
       "    </tr>\n",
       "    <tr>\n",
       "      <th>3</th>\n",
       "      <td>This think has worked out great.Had a diff. br...</td>\n",
       "      <td>5.0</td>\n",
       "      <td>positif</td>\n",
       "      <td>340</td>\n",
       "    </tr>\n",
       "    <tr>\n",
       "      <th>4</th>\n",
       "      <td>Bought it with Retail Packaging, arrived legit...</td>\n",
       "      <td>5.0</td>\n",
       "      <td>positif</td>\n",
       "      <td>290</td>\n",
       "    </tr>\n",
       "    <tr>\n",
       "      <th>5</th>\n",
       "      <td>It's mini storage.  It doesn't do anything els...</td>\n",
       "      <td>5.0</td>\n",
       "      <td>positif</td>\n",
       "      <td>282</td>\n",
       "    </tr>\n",
       "  </tbody>\n",
       "</table>\n",
       "</div>"
      ],
      "text/plain": [
       "                                          reviewText  overall sentimen  \\\n",
       "1  Purchased this for my device, it worked as adv...      5.0  positif   \n",
       "2  it works as expected. I should have sprung for...      4.0  positif   \n",
       "3  This think has worked out great.Had a diff. br...      5.0  positif   \n",
       "4  Bought it with Retail Packaging, arrived legit...      5.0  positif   \n",
       "5  It's mini storage.  It doesn't do anything els...      5.0  positif   \n",
       "\n",
       "   review_length  \n",
       "1            158  \n",
       "2            166  \n",
       "3            340  \n",
       "4            290  \n",
       "5            282  "
      ]
     },
     "execution_count": 58,
     "metadata": {},
     "output_type": "execute_result"
    }
   ],
   "source": [
    "df.head()"
   ]
  },
  {
   "cell_type": "markdown",
   "metadata": {
    "id": "oK8oxlZFyCa0"
   },
   "source": [
    "## Data Prepocessing"
   ]
  },
  {
   "cell_type": "markdown",
   "metadata": {
    "id": "z-BSdim_hUx6"
   },
   "source": [
    "### Cleaning Text"
   ]
  },
  {
   "cell_type": "markdown",
   "metadata": {
    "id": "E8exM-z4jBsc"
   },
   "source": [
    "#### Mengubah ke lowercase dan menghapus tanda baca,angka dan stopwords"
   ]
  },
  {
   "cell_type": "code",
   "execution_count": null,
   "metadata": {
    "executionInfo": {
     "elapsed": 40,
     "status": "ok",
     "timestamp": 1754357208692,
     "user": {
      "displayName": "Raka Arrayan",
      "userId": "02832028816008534409"
     },
     "user_tz": -420
    },
    "id": "AVwxrgLrfTMy"
   },
   "outputs": [],
   "source": [
    "import re # regular expressions\n",
    "import nltk # Natural Language Toolkit\n",
    "from nltk.corpus import stopwords # stopwords\n",
    "\n",
    "stop_words = set(stopwords.words('english')) # Mengambil daftar stopwords bahasa Inggris dari NLTK.\n",
    "\n",
    "# cleaning text\n",
    "def clean_text(text):\n",
    "    # 1. Ubah ke huruf kecil\n",
    "    text = text.lower()\n",
    "    # 2. Hapus tanda baca dan angka\n",
    "    text = re.sub(r'[^a-z\\s]', '', text)\n",
    "    # 3. Hapus stopwords\n",
    "    text = ' '.join([word for word in text.split() if word not in stop_words])\n",
    "    return text\n"
   ]
  },
  {
   "cell_type": "code",
   "execution_count": null,
   "metadata": {
    "executionInfo": {
     "elapsed": 418,
     "status": "ok",
     "timestamp": 1754357209113,
     "user": {
      "displayName": "Raka Arrayan",
      "userId": "02832028816008534409"
     },
     "user_tz": -420
    },
    "id": "hWqIuoZcin8L"
   },
   "outputs": [],
   "source": [
    "df['clean_review'] = df['reviewText'].apply(clean_text) # Menerapkan fungsi ke setiap nilai pada kolom reviewText dan menyimpan hasilnya dalam kolom baru bernama clean_review"
   ]
  },
  {
   "cell_type": "markdown",
   "metadata": {
    "id": "5dWp3E1NjOMt"
   },
   "source": [
    "#### Menghapus spacing"
   ]
  },
  {
   "cell_type": "code",
   "execution_count": 61,
   "metadata": {
    "executionInfo": {
     "elapsed": 4,
     "status": "ok",
     "timestamp": 1754357209122,
     "user": {
      "displayName": "Raka Arrayan",
      "userId": "02832028816008534409"
     },
     "user_tz": -420
    },
    "id": "PJMdJcytiv64"
   },
   "outputs": [],
   "source": [
    "def rewhitespace(text):\n",
    "    corrected = str(text)\n",
    "    corrected = re.sub(r\"( )\\1+\", r\"\\1\", corrected)  # Hapus spasi ganda\n",
    "    corrected = re.sub(r\"(\\n)\\1+\", r\"\\1\", corrected)  # Hapus newline ganda\n",
    "    corrected = re.sub(r\"(\\r)\\1+\", r\"\\1\", corrected)  # Hapus carriage return ganda\n",
    "    corrected = re.sub(r\"(\\t)\\1+\", r\"\\1\", corrected)  # Hapus tab ganda\n",
    "    return corrected.strip()\n"
   ]
  },
  {
   "cell_type": "code",
   "execution_count": 62,
   "metadata": {
    "colab": {
     "base_uri": "https://localhost:8080/",
     "height": 206
    },
    "executionInfo": {
     "elapsed": 89,
     "status": "ok",
     "timestamp": 1754357209213,
     "user": {
      "displayName": "Raka Arrayan",
      "userId": "02832028816008534409"
     },
     "user_tz": -420
    },
    "id": "zC0LpR15jltK",
    "outputId": "fd5fa608-6259-4a9e-e790-ef2d53344a6b"
   },
   "outputs": [
    {
     "data": {
      "text/html": [
       "<div>\n",
       "<style scoped>\n",
       "    .dataframe tbody tr th:only-of-type {\n",
       "        vertical-align: middle;\n",
       "    }\n",
       "\n",
       "    .dataframe tbody tr th {\n",
       "        vertical-align: top;\n",
       "    }\n",
       "\n",
       "    .dataframe thead th {\n",
       "        text-align: right;\n",
       "    }\n",
       "</style>\n",
       "<table border=\"1\" class=\"dataframe\">\n",
       "  <thead>\n",
       "    <tr style=\"text-align: right;\">\n",
       "      <th></th>\n",
       "      <th>reviewText</th>\n",
       "      <th>overall</th>\n",
       "      <th>sentimen</th>\n",
       "      <th>review_length</th>\n",
       "      <th>clean_review</th>\n",
       "    </tr>\n",
       "  </thead>\n",
       "  <tbody>\n",
       "    <tr>\n",
       "      <th>1</th>\n",
       "      <td>Purchased this for my device, it worked as adv...</td>\n",
       "      <td>5.0</td>\n",
       "      <td>positif</td>\n",
       "      <td>158</td>\n",
       "      <td>purchased device worked advertised never much ...</td>\n",
       "    </tr>\n",
       "    <tr>\n",
       "      <th>2</th>\n",
       "      <td>it works as expected. I should have sprung for...</td>\n",
       "      <td>4.0</td>\n",
       "      <td>positif</td>\n",
       "      <td>166</td>\n",
       "      <td>works expected sprung higher capacity think ma...</td>\n",
       "    </tr>\n",
       "    <tr>\n",
       "      <th>3</th>\n",
       "      <td>This think has worked out great.Had a diff. br...</td>\n",
       "      <td>5.0</td>\n",
       "      <td>positif</td>\n",
       "      <td>340</td>\n",
       "      <td>think worked greathad diff bran gb card went s...</td>\n",
       "    </tr>\n",
       "    <tr>\n",
       "      <th>4</th>\n",
       "      <td>Bought it with Retail Packaging, arrived legit...</td>\n",
       "      <td>5.0</td>\n",
       "      <td>positif</td>\n",
       "      <td>290</td>\n",
       "      <td>bought retail packaging arrived legit orange e...</td>\n",
       "    </tr>\n",
       "    <tr>\n",
       "      <th>5</th>\n",
       "      <td>It's mini storage.  It doesn't do anything els...</td>\n",
       "      <td>5.0</td>\n",
       "      <td>positif</td>\n",
       "      <td>282</td>\n",
       "      <td>mini storage doesnt anything else supposed pur...</td>\n",
       "    </tr>\n",
       "  </tbody>\n",
       "</table>\n",
       "</div>"
      ],
      "text/plain": [
       "                                          reviewText  overall sentimen  \\\n",
       "1  Purchased this for my device, it worked as adv...      5.0  positif   \n",
       "2  it works as expected. I should have sprung for...      4.0  positif   \n",
       "3  This think has worked out great.Had a diff. br...      5.0  positif   \n",
       "4  Bought it with Retail Packaging, arrived legit...      5.0  positif   \n",
       "5  It's mini storage.  It doesn't do anything els...      5.0  positif   \n",
       "\n",
       "   review_length                                       clean_review  \n",
       "1            158  purchased device worked advertised never much ...  \n",
       "2            166  works expected sprung higher capacity think ma...  \n",
       "3            340  think worked greathad diff bran gb card went s...  \n",
       "4            290  bought retail packaging arrived legit orange e...  \n",
       "5            282  mini storage doesnt anything else supposed pur...  "
      ]
     },
     "execution_count": 62,
     "metadata": {},
     "output_type": "execute_result"
    }
   ],
   "source": [
    "df.head()"
   ]
  },
  {
   "cell_type": "markdown",
   "metadata": {
    "id": "er7NYlCukBGE"
   },
   "source": [
    "#### Menghapus kolom yang sudah tidak terpakai"
   ]
  },
  {
   "cell_type": "code",
   "execution_count": 63,
   "metadata": {
    "executionInfo": {
     "elapsed": 3,
     "status": "ok",
     "timestamp": 1754357209219,
     "user": {
      "displayName": "Raka Arrayan",
      "userId": "02832028816008534409"
     },
     "user_tz": -420
    },
    "id": "ElXopMfyjnkP"
   },
   "outputs": [],
   "source": [
    "df_final = df.drop(columns=['reviewText', 'overall', 'review_length'])"
   ]
  },
  {
   "cell_type": "code",
   "execution_count": 64,
   "metadata": {
    "colab": {
     "base_uri": "https://localhost:8080/",
     "height": 206
    },
    "executionInfo": {
     "elapsed": 62,
     "status": "ok",
     "timestamp": 1754357209284,
     "user": {
      "displayName": "Raka Arrayan",
      "userId": "02832028816008534409"
     },
     "user_tz": -420
    },
    "id": "MDRWfgPckHE1",
    "outputId": "518bdab7-2885-4872-ce12-43e3155df20b"
   },
   "outputs": [
    {
     "data": {
      "text/html": [
       "<div>\n",
       "<style scoped>\n",
       "    .dataframe tbody tr th:only-of-type {\n",
       "        vertical-align: middle;\n",
       "    }\n",
       "\n",
       "    .dataframe tbody tr th {\n",
       "        vertical-align: top;\n",
       "    }\n",
       "\n",
       "    .dataframe thead th {\n",
       "        text-align: right;\n",
       "    }\n",
       "</style>\n",
       "<table border=\"1\" class=\"dataframe\">\n",
       "  <thead>\n",
       "    <tr style=\"text-align: right;\">\n",
       "      <th></th>\n",
       "      <th>sentimen</th>\n",
       "      <th>clean_review</th>\n",
       "    </tr>\n",
       "  </thead>\n",
       "  <tbody>\n",
       "    <tr>\n",
       "      <th>1</th>\n",
       "      <td>positif</td>\n",
       "      <td>purchased device worked advertised never much ...</td>\n",
       "    </tr>\n",
       "    <tr>\n",
       "      <th>2</th>\n",
       "      <td>positif</td>\n",
       "      <td>works expected sprung higher capacity think ma...</td>\n",
       "    </tr>\n",
       "    <tr>\n",
       "      <th>3</th>\n",
       "      <td>positif</td>\n",
       "      <td>think worked greathad diff bran gb card went s...</td>\n",
       "    </tr>\n",
       "    <tr>\n",
       "      <th>4</th>\n",
       "      <td>positif</td>\n",
       "      <td>bought retail packaging arrived legit orange e...</td>\n",
       "    </tr>\n",
       "    <tr>\n",
       "      <th>5</th>\n",
       "      <td>positif</td>\n",
       "      <td>mini storage doesnt anything else supposed pur...</td>\n",
       "    </tr>\n",
       "  </tbody>\n",
       "</table>\n",
       "</div>"
      ],
      "text/plain": [
       "  sentimen                                       clean_review\n",
       "1  positif  purchased device worked advertised never much ...\n",
       "2  positif  works expected sprung higher capacity think ma...\n",
       "3  positif  think worked greathad diff bran gb card went s...\n",
       "4  positif  bought retail packaging arrived legit orange e...\n",
       "5  positif  mini storage doesnt anything else supposed pur..."
      ]
     },
     "execution_count": 64,
     "metadata": {},
     "output_type": "execute_result"
    }
   ],
   "source": [
    "df_final.head()"
   ]
  },
  {
   "cell_type": "markdown",
   "metadata": {
    "id": "f0lrU98DkdIf"
   },
   "source": [
    "### Tokenization"
   ]
  },
  {
   "cell_type": "markdown",
   "metadata": {
    "id": "hrbFQSZUk0y0"
   },
   "source": [
    "Memecah Teks menjadi kata kata agar tiap elemen dapat di analisis"
   ]
  },
  {
   "cell_type": "code",
   "execution_count": 65,
   "metadata": {
    "colab": {
     "base_uri": "https://localhost:8080/"
    },
    "executionInfo": {
     "elapsed": 22,
     "status": "ok",
     "timestamp": 1754357209311,
     "user": {
      "displayName": "Raka Arrayan",
      "userId": "02832028816008534409"
     },
     "user_tz": -420
    },
    "id": "IB9ygl1enRPE",
    "outputId": "a070208a-fb71-47cf-a94e-06d5688730ac"
   },
   "outputs": [
    {
     "name": "stderr",
     "output_type": "stream",
     "text": [
      "[nltk_data] Downloading package punkt to\n",
      "[nltk_data]     C:\\Users\\rifqi\\AppData\\Roaming\\nltk_data...\n",
      "[nltk_data]   Package punkt is already up-to-date!\n"
     ]
    },
    {
     "data": {
      "text/plain": [
       "True"
      ]
     },
     "execution_count": 65,
     "metadata": {},
     "output_type": "execute_result"
    }
   ],
   "source": [
    "# Hapus resource punkt yang rusak\n",
    "import shutil\n",
    "shutil.rmtree('/root/nltk_data/tokenizers/punkt', ignore_errors=True)\n",
    "\n",
    "# Unduh ulang resource punkt\n",
    "import nltk\n",
    "nltk.download('punkt')\n"
   ]
  },
  {
   "cell_type": "code",
   "execution_count": 66,
   "metadata": {
    "colab": {
     "base_uri": "https://localhost:8080/",
     "height": 206
    },
    "executionInfo": {
     "elapsed": 67,
     "status": "ok",
     "timestamp": 1754357209380,
     "user": {
      "displayName": "Raka Arrayan",
      "userId": "02832028816008534409"
     },
     "user_tz": -420
    },
    "id": "BzO4hn8ynYJF",
    "outputId": "c2278792-3f4d-4475-8100-e97f617d04b0"
   },
   "outputs": [
    {
     "data": {
      "text/html": [
       "<div>\n",
       "<style scoped>\n",
       "    .dataframe tbody tr th:only-of-type {\n",
       "        vertical-align: middle;\n",
       "    }\n",
       "\n",
       "    .dataframe tbody tr th {\n",
       "        vertical-align: top;\n",
       "    }\n",
       "\n",
       "    .dataframe thead th {\n",
       "        text-align: right;\n",
       "    }\n",
       "</style>\n",
       "<table border=\"1\" class=\"dataframe\">\n",
       "  <thead>\n",
       "    <tr style=\"text-align: right;\">\n",
       "      <th></th>\n",
       "      <th>sentimen</th>\n",
       "      <th>clean_review</th>\n",
       "      <th>tokenized_review</th>\n",
       "    </tr>\n",
       "  </thead>\n",
       "  <tbody>\n",
       "    <tr>\n",
       "      <th>1</th>\n",
       "      <td>positif</td>\n",
       "      <td>purchased device worked advertised never much ...</td>\n",
       "      <td>[purchased, device, worked, advertised, never,...</td>\n",
       "    </tr>\n",
       "    <tr>\n",
       "      <th>2</th>\n",
       "      <td>positif</td>\n",
       "      <td>works expected sprung higher capacity think ma...</td>\n",
       "      <td>[works, expected, sprung, higher, capacity, th...</td>\n",
       "    </tr>\n",
       "    <tr>\n",
       "      <th>3</th>\n",
       "      <td>positif</td>\n",
       "      <td>think worked greathad diff bran gb card went s...</td>\n",
       "      <td>[think, worked, greathad, diff, bran, gb, card...</td>\n",
       "    </tr>\n",
       "    <tr>\n",
       "      <th>4</th>\n",
       "      <td>positif</td>\n",
       "      <td>bought retail packaging arrived legit orange e...</td>\n",
       "      <td>[bought, retail, packaging, arrived, legit, or...</td>\n",
       "    </tr>\n",
       "    <tr>\n",
       "      <th>5</th>\n",
       "      <td>positif</td>\n",
       "      <td>mini storage doesnt anything else supposed pur...</td>\n",
       "      <td>[mini, storage, doesnt, anything, else, suppos...</td>\n",
       "    </tr>\n",
       "  </tbody>\n",
       "</table>\n",
       "</div>"
      ],
      "text/plain": [
       "  sentimen                                       clean_review  \\\n",
       "1  positif  purchased device worked advertised never much ...   \n",
       "2  positif  works expected sprung higher capacity think ma...   \n",
       "3  positif  think worked greathad diff bran gb card went s...   \n",
       "4  positif  bought retail packaging arrived legit orange e...   \n",
       "5  positif  mini storage doesnt anything else supposed pur...   \n",
       "\n",
       "                                    tokenized_review  \n",
       "1  [purchased, device, worked, advertised, never,...  \n",
       "2  [works, expected, sprung, higher, capacity, th...  \n",
       "3  [think, worked, greathad, diff, bran, gb, card...  \n",
       "4  [bought, retail, packaging, arrived, legit, or...  \n",
       "5  [mini, storage, doesnt, anything, else, suppos...  "
      ]
     },
     "execution_count": 66,
     "metadata": {},
     "output_type": "execute_result"
    }
   ],
   "source": [
    "# Import dan lakukan tokenisasi\n",
    "from nltk.tokenize import word_tokenize\n",
    "\n",
    "def token(text):\n",
    "    return word_tokenize(text)\n",
    "\n",
    "df_final['tokenized_review'] = df_final['clean_review'].apply(lambda x: x.split())\n",
    "df_final.head()\n"
   ]
  },
  {
   "cell_type": "markdown",
   "metadata": {
    "id": "cgfqHMM3pBzV"
   },
   "source": [
    "### lemmatization"
   ]
  },
  {
   "cell_type": "markdown",
   "metadata": {
    "id": "RPZcGOsPHNBd"
   },
   "source": [
    "Melakukan lemmatization yaitu untuk Menghapus imbuhan"
   ]
  },
  {
   "cell_type": "code",
   "execution_count": 67,
   "metadata": {
    "executionInfo": {
     "elapsed": 48,
     "status": "ok",
     "timestamp": 1754357209382,
     "user": {
      "displayName": "Raka Arrayan",
      "userId": "02832028816008534409"
     },
     "user_tz": -420
    },
    "id": "JapY8OlNsfQo"
   },
   "outputs": [],
   "source": [
    "import os\n",
    "nltk.data.path.append('/root/nltk_data')\n"
   ]
  },
  {
   "cell_type": "code",
   "execution_count": null,
   "metadata": {
    "colab": {
     "base_uri": "https://localhost:8080/"
    },
    "executionInfo": {
     "elapsed": 27920,
     "status": "ok",
     "timestamp": 1754357237299,
     "user": {
      "displayName": "Raka Arrayan",
      "userId": "02832028816008534409"
     },
     "user_tz": -420
    },
    "id": "n3lnf1KasFp6",
    "outputId": "067b214d-142a-459b-99fa-3f146ae56c89"
   },
   "outputs": [
    {
     "name": "stderr",
     "output_type": "stream",
     "text": [
      "[nltk_data] Downloading package punkt to\n",
      "[nltk_data]     C:\\Users\\rifqi\\AppData\\Roaming\\nltk_data...\n",
      "[nltk_data]   Package punkt is already up-to-date!\n",
      "[nltk_data] Downloading package wordnet to\n",
      "[nltk_data]     C:\\Users\\rifqi\\AppData\\Roaming\\nltk_data...\n",
      "[nltk_data]   Package wordnet is already up-to-date!\n",
      "[nltk_data] Downloading package omw-1.4 to\n",
      "[nltk_data]     C:\\Users\\rifqi\\AppData\\Roaming\\nltk_data...\n",
      "[nltk_data]   Package omw-1.4 is already up-to-date!\n",
      "[nltk_data] Downloading package averaged_perceptron_tagger to\n",
      "[nltk_data]     C:\\Users\\rifqi\\AppData\\Roaming\\nltk_data...\n",
      "[nltk_data]   Package averaged_perceptron_tagger is already up-to-\n",
      "[nltk_data]       date!\n",
      "[nltk_data] Downloading package averaged_perceptron_tagger_eng to\n",
      "[nltk_data]     C:\\Users\\rifqi\\AppData\\Roaming\\nltk_data...\n",
      "[nltk_data]   Package averaged_perceptron_tagger_eng is already up-to-\n",
      "[nltk_data]       date!\n"
     ]
    }
   ],
   "source": [
    "from nltk.corpus import wordnet\n",
    "from nltk.stem import WordNetLemmatizer\n",
    "import nltk\n",
    "\n",
    "# Unduh resource yang dibutuhkan\n",
    "nltk.download('punkt') # Tokenisasi\n",
    "nltk.download('wordnet')# Lemmatization\n",
    "nltk.download('omw-1.4')# Lemmatization\n",
    "nltk.download('averaged_perceptron_tagger')#POS tagging\n",
    "nltk.download('averaged_perceptron_tagger_eng')#POS tagging\n",
    "\n",
    "# Inisialisasi lemmatizer\n",
    "lemmatizer = WordNetLemmatizer()# Membuat objek lemmatizer yang nanti akan digunakan untuk mengubah kata ke bentuk dasarnya.\n",
    "\n",
    "# Fungsi untuk mengonversi POS tag ke format WordNet\n",
    "def get_wordnet_pos(word):\n",
    "    tag = nltk.pos_tag([word])[0][1][0].upper()\n",
    "    tag_dict = {\n",
    "        'J': wordnet.ADJ,   # Adjective\n",
    "        'N': wordnet.NOUN,  # Noun\n",
    "        'V': wordnet.VERB,  # Verb\n",
    "        'R': wordnet.ADV    # Adverb\n",
    "    }\n",
    "    return tag_dict.get(tag, wordnet.NOUN)\n",
    "\n",
    "# Fungsi lemmatization\n",
    "def lemmatize_review(review):\n",
    "    return [lemmatizer.lemmatize(word, get_wordnet_pos(word)) for word in review]\n",
    "\n",
    "# Terapkan lemmatization \n",
    "df_final['lemmatized_review'] = df_final['tokenized_review'].apply(lemmatize_review)\n"
   ]
  },
  {
   "cell_type": "code",
   "execution_count": 69,
   "metadata": {
    "colab": {
     "base_uri": "https://localhost:8080/",
     "height": 206
    },
    "executionInfo": {
     "elapsed": 35,
     "status": "ok",
     "timestamp": 1754357237329,
     "user": {
      "displayName": "Raka Arrayan",
      "userId": "02832028816008534409"
     },
     "user_tz": -420
    },
    "id": "sPfCBsu3sgFL",
    "outputId": "62267b9b-03c7-4226-9325-dcffa803a47a"
   },
   "outputs": [
    {
     "data": {
      "text/html": [
       "<div>\n",
       "<style scoped>\n",
       "    .dataframe tbody tr th:only-of-type {\n",
       "        vertical-align: middle;\n",
       "    }\n",
       "\n",
       "    .dataframe tbody tr th {\n",
       "        vertical-align: top;\n",
       "    }\n",
       "\n",
       "    .dataframe thead th {\n",
       "        text-align: right;\n",
       "    }\n",
       "</style>\n",
       "<table border=\"1\" class=\"dataframe\">\n",
       "  <thead>\n",
       "    <tr style=\"text-align: right;\">\n",
       "      <th></th>\n",
       "      <th>sentimen</th>\n",
       "      <th>clean_review</th>\n",
       "      <th>tokenized_review</th>\n",
       "      <th>lemmatized_review</th>\n",
       "    </tr>\n",
       "  </thead>\n",
       "  <tbody>\n",
       "    <tr>\n",
       "      <th>1</th>\n",
       "      <td>positif</td>\n",
       "      <td>purchased device worked advertised never much ...</td>\n",
       "      <td>[purchased, device, worked, advertised, never,...</td>\n",
       "      <td>[purchase, device, work, advertised, never, mu...</td>\n",
       "    </tr>\n",
       "    <tr>\n",
       "      <th>2</th>\n",
       "      <td>positif</td>\n",
       "      <td>works expected sprung higher capacity think ma...</td>\n",
       "      <td>[works, expected, sprung, higher, capacity, th...</td>\n",
       "      <td>[work, expect, sprung, high, capacity, think, ...</td>\n",
       "    </tr>\n",
       "    <tr>\n",
       "      <th>3</th>\n",
       "      <td>positif</td>\n",
       "      <td>think worked greathad diff bran gb card went s...</td>\n",
       "      <td>[think, worked, greathad, diff, bran, gb, card...</td>\n",
       "      <td>[think, work, greathad, diff, bran, gb, card, ...</td>\n",
       "    </tr>\n",
       "    <tr>\n",
       "      <th>4</th>\n",
       "      <td>positif</td>\n",
       "      <td>bought retail packaging arrived legit orange e...</td>\n",
       "      <td>[bought, retail, packaging, arrived, legit, or...</td>\n",
       "      <td>[bought, retail, packaging, arrive, legit, ora...</td>\n",
       "    </tr>\n",
       "    <tr>\n",
       "      <th>5</th>\n",
       "      <td>positif</td>\n",
       "      <td>mini storage doesnt anything else supposed pur...</td>\n",
       "      <td>[mini, storage, doesnt, anything, else, suppos...</td>\n",
       "      <td>[mini, storage, doesnt, anything, else, suppos...</td>\n",
       "    </tr>\n",
       "  </tbody>\n",
       "</table>\n",
       "</div>"
      ],
      "text/plain": [
       "  sentimen                                       clean_review  \\\n",
       "1  positif  purchased device worked advertised never much ...   \n",
       "2  positif  works expected sprung higher capacity think ma...   \n",
       "3  positif  think worked greathad diff bran gb card went s...   \n",
       "4  positif  bought retail packaging arrived legit orange e...   \n",
       "5  positif  mini storage doesnt anything else supposed pur...   \n",
       "\n",
       "                                    tokenized_review  \\\n",
       "1  [purchased, device, worked, advertised, never,...   \n",
       "2  [works, expected, sprung, higher, capacity, th...   \n",
       "3  [think, worked, greathad, diff, bran, gb, card...   \n",
       "4  [bought, retail, packaging, arrived, legit, or...   \n",
       "5  [mini, storage, doesnt, anything, else, suppos...   \n",
       "\n",
       "                                   lemmatized_review  \n",
       "1  [purchase, device, work, advertised, never, mu...  \n",
       "2  [work, expect, sprung, high, capacity, think, ...  \n",
       "3  [think, work, greathad, diff, bran, gb, card, ...  \n",
       "4  [bought, retail, packaging, arrive, legit, ora...  \n",
       "5  [mini, storage, doesnt, anything, else, suppos...  "
      ]
     },
     "execution_count": 69,
     "metadata": {},
     "output_type": "execute_result"
    }
   ],
   "source": [
    "df_final.head()"
   ]
  },
  {
   "cell_type": "code",
   "execution_count": 70,
   "metadata": {
    "executionInfo": {
     "elapsed": 4,
     "status": "ok",
     "timestamp": 1754357237334,
     "user": {
      "displayName": "Raka Arrayan",
      "userId": "02832028816008534409"
     },
     "user_tz": -420
    },
    "id": "Ely52juEs5pM"
   },
   "outputs": [],
   "source": [
    "df_final.drop(['clean_review', 'tokenized_review'], axis=1, inplace=True)"
   ]
  },
  {
   "cell_type": "code",
   "execution_count": 71,
   "metadata": {
    "colab": {
     "base_uri": "https://localhost:8080/",
     "height": 206
    },
    "executionInfo": {
     "elapsed": 44,
     "status": "ok",
     "timestamp": 1754357237383,
     "user": {
      "displayName": "Raka Arrayan",
      "userId": "02832028816008534409"
     },
     "user_tz": -420
    },
    "id": "vOuw2kjMt_TN",
    "outputId": "0607bf34-4d4a-4fa3-ac34-628541786919"
   },
   "outputs": [
    {
     "data": {
      "text/html": [
       "<div>\n",
       "<style scoped>\n",
       "    .dataframe tbody tr th:only-of-type {\n",
       "        vertical-align: middle;\n",
       "    }\n",
       "\n",
       "    .dataframe tbody tr th {\n",
       "        vertical-align: top;\n",
       "    }\n",
       "\n",
       "    .dataframe thead th {\n",
       "        text-align: right;\n",
       "    }\n",
       "</style>\n",
       "<table border=\"1\" class=\"dataframe\">\n",
       "  <thead>\n",
       "    <tr style=\"text-align: right;\">\n",
       "      <th></th>\n",
       "      <th>sentimen</th>\n",
       "      <th>lemmatized_review</th>\n",
       "    </tr>\n",
       "  </thead>\n",
       "  <tbody>\n",
       "    <tr>\n",
       "      <th>1</th>\n",
       "      <td>positif</td>\n",
       "      <td>[purchase, device, work, advertised, never, mu...</td>\n",
       "    </tr>\n",
       "    <tr>\n",
       "      <th>2</th>\n",
       "      <td>positif</td>\n",
       "      <td>[work, expect, sprung, high, capacity, think, ...</td>\n",
       "    </tr>\n",
       "    <tr>\n",
       "      <th>3</th>\n",
       "      <td>positif</td>\n",
       "      <td>[think, work, greathad, diff, bran, gb, card, ...</td>\n",
       "    </tr>\n",
       "    <tr>\n",
       "      <th>4</th>\n",
       "      <td>positif</td>\n",
       "      <td>[bought, retail, packaging, arrive, legit, ora...</td>\n",
       "    </tr>\n",
       "    <tr>\n",
       "      <th>5</th>\n",
       "      <td>positif</td>\n",
       "      <td>[mini, storage, doesnt, anything, else, suppos...</td>\n",
       "    </tr>\n",
       "  </tbody>\n",
       "</table>\n",
       "</div>"
      ],
      "text/plain": [
       "  sentimen                                  lemmatized_review\n",
       "1  positif  [purchase, device, work, advertised, never, mu...\n",
       "2  positif  [work, expect, sprung, high, capacity, think, ...\n",
       "3  positif  [think, work, greathad, diff, bran, gb, card, ...\n",
       "4  positif  [bought, retail, packaging, arrive, legit, ora...\n",
       "5  positif  [mini, storage, doesnt, anything, else, suppos..."
      ]
     },
     "execution_count": 71,
     "metadata": {},
     "output_type": "execute_result"
    }
   ],
   "source": [
    "df_final.head()"
   ]
  },
  {
   "cell_type": "code",
   "execution_count": 72,
   "metadata": {
    "executionInfo": {
     "elapsed": 4,
     "status": "ok",
     "timestamp": 1754357237390,
     "user": {
      "displayName": "Raka Arrayan",
      "userId": "02832028816008534409"
     },
     "user_tz": -420
    },
    "id": "qT30sZbVGnu1"
   },
   "outputs": [],
   "source": [
    "# Gabungkan daftar kata menjadi satu string\n",
    "df_final['lemmatized_review'] = df_final['lemmatized_review'].apply(lambda tokens: ' '.join(tokens))"
   ]
  },
  {
   "cell_type": "code",
   "execution_count": 73,
   "metadata": {
    "colab": {
     "base_uri": "https://localhost:8080/",
     "height": 206
    },
    "executionInfo": {
     "elapsed": 30,
     "status": "ok",
     "timestamp": 1754357237424,
     "user": {
      "displayName": "Raka Arrayan",
      "userId": "02832028816008534409"
     },
     "user_tz": -420
    },
    "id": "NW2QVTtDGqtX",
    "outputId": "fbd24810-e009-4fa5-ac9b-9640ceea2538"
   },
   "outputs": [
    {
     "data": {
      "text/html": [
       "<div>\n",
       "<style scoped>\n",
       "    .dataframe tbody tr th:only-of-type {\n",
       "        vertical-align: middle;\n",
       "    }\n",
       "\n",
       "    .dataframe tbody tr th {\n",
       "        vertical-align: top;\n",
       "    }\n",
       "\n",
       "    .dataframe thead th {\n",
       "        text-align: right;\n",
       "    }\n",
       "</style>\n",
       "<table border=\"1\" class=\"dataframe\">\n",
       "  <thead>\n",
       "    <tr style=\"text-align: right;\">\n",
       "      <th></th>\n",
       "      <th>sentimen</th>\n",
       "      <th>lemmatized_review</th>\n",
       "    </tr>\n",
       "  </thead>\n",
       "  <tbody>\n",
       "    <tr>\n",
       "      <th>1</th>\n",
       "      <td>positif</td>\n",
       "      <td>purchase device work advertised never much pho...</td>\n",
       "    </tr>\n",
       "    <tr>\n",
       "      <th>2</th>\n",
       "      <td>positif</td>\n",
       "      <td>work expect sprung high capacity think make bi...</td>\n",
       "    </tr>\n",
       "    <tr>\n",
       "      <th>3</th>\n",
       "      <td>positif</td>\n",
       "      <td>think work greathad diff bran gb card go south...</td>\n",
       "    </tr>\n",
       "    <tr>\n",
       "      <th>4</th>\n",
       "      <td>positif</td>\n",
       "      <td>bought retail packaging arrive legit orange en...</td>\n",
       "    </tr>\n",
       "    <tr>\n",
       "      <th>5</th>\n",
       "      <td>positif</td>\n",
       "      <td>mini storage doesnt anything else suppose purc...</td>\n",
       "    </tr>\n",
       "  </tbody>\n",
       "</table>\n",
       "</div>"
      ],
      "text/plain": [
       "  sentimen                                  lemmatized_review\n",
       "1  positif  purchase device work advertised never much pho...\n",
       "2  positif  work expect sprung high capacity think make bi...\n",
       "3  positif  think work greathad diff bran gb card go south...\n",
       "4  positif  bought retail packaging arrive legit orange en...\n",
       "5  positif  mini storage doesnt anything else suppose purc..."
      ]
     },
     "execution_count": 73,
     "metadata": {},
     "output_type": "execute_result"
    }
   ],
   "source": [
    "df_final.head()"
   ]
  },
  {
   "cell_type": "markdown",
   "metadata": {
    "id": "d2vj3yhSHSUo"
   },
   "source": [
    "## Training models"
   ]
  },
  {
   "cell_type": "markdown",
   "metadata": {
    "id": "RBCWNaRFLtj6"
   },
   "source": [
    "### Melakukan TF-IDF"
   ]
  },
  {
   "cell_type": "code",
   "execution_count": null,
   "metadata": {
    "colab": {
     "base_uri": "https://localhost:8080/"
    },
    "executionInfo": {
     "elapsed": 728,
     "status": "ok",
     "timestamp": 1754357238155,
     "user": {
      "displayName": "Raka Arrayan",
      "userId": "02832028816008534409"
     },
     "user_tz": -420
    },
    "id": "QegFRiECLf7C",
    "outputId": "65569684-8e46-4680-860e-9e3adc7a951d"
   },
   "outputs": [
    {
     "data": {
      "text/plain": [
       "<Compressed Sparse Row sparse matrix of dtype 'float64'\n",
       "\twith 121155 stored elements and shape (4913, 5000)>"
      ]
     },
     "execution_count": 74,
     "metadata": {},
     "output_type": "execute_result"
    }
   ],
   "source": [
    "from sklearn.feature_extraction.text import TfidfVectorizer #mengubah teks menjadi angka berdasarkan tf-idf\n",
    "\n",
    "X = df_final['lemmatized_review']# fitur input\n",
    "y = df_final['sentimen']# target atau label\n",
    "\n",
    "tfidf_vectorizer = TfidfVectorizer(max_features=5000, ngram_range=(1, 2), stop_words='english')\n",
    "# Hanya mengambil 5000 fitur lalu gunakan unigram(kata tunggal) dan bigram(pasangan kata) selanjutnya hapus stopwords\n",
    "review_tf = tfidf_vectorizer.fit_transform(X.astype('U'))\n",
    "#memastikasn semua data dalam tipe string unicode dan akan kita train dari teks untuk membuat tf-idf\n",
    "review_tf"
   ]
  },
  {
   "cell_type": "markdown",
   "metadata": {
    "id": "1_xeBt5FVc9D"
   },
   "source": [
    "### Menangani Data Imbalance"
   ]
  },
  {
   "cell_type": "code",
   "execution_count": 75,
   "metadata": {},
   "outputs": [
    {
     "name": "stdout",
     "output_type": "stream",
     "text": [
      "Requirement already satisfied: imbalanced-learn in c:\\users\\rifqi\\appdata\\local\\programs\\python\\python312\\lib\\site-packages (0.13.0)\n",
      "Requirement already satisfied: numpy<3,>=1.24.3 in c:\\users\\rifqi\\appdata\\local\\programs\\python\\python312\\lib\\site-packages (from imbalanced-learn) (1.26.4)\n",
      "Requirement already satisfied: scipy<2,>=1.10.1 in c:\\users\\rifqi\\appdata\\local\\programs\\python\\python312\\lib\\site-packages (from imbalanced-learn) (1.14.0)\n",
      "Requirement already satisfied: scikit-learn<2,>=1.3.2 in c:\\users\\rifqi\\appdata\\local\\programs\\python\\python312\\lib\\site-packages (from imbalanced-learn) (1.5.1)\n",
      "Requirement already satisfied: sklearn-compat<1,>=0.1 in c:\\users\\rifqi\\appdata\\local\\programs\\python\\python312\\lib\\site-packages (from imbalanced-learn) (0.1.3)\n",
      "Requirement already satisfied: joblib<2,>=1.1.1 in c:\\users\\rifqi\\appdata\\local\\programs\\python\\python312\\lib\\site-packages (from imbalanced-learn) (1.4.2)\n",
      "Requirement already satisfied: threadpoolctl<4,>=2.0.0 in c:\\users\\rifqi\\appdata\\local\\programs\\python\\python312\\lib\\site-packages (from imbalanced-learn) (3.5.0)\n"
     ]
    },
    {
     "name": "stderr",
     "output_type": "stream",
     "text": [
      "\n",
      "[notice] A new release of pip is available: 24.0 -> 25.2\n",
      "[notice] To update, run: python.exe -m pip install --upgrade pip\n"
     ]
    }
   ],
   "source": [
    "!pip install imbalanced-learn\n"
   ]
  },
  {
   "cell_type": "code",
   "execution_count": null,
   "metadata": {
    "executionInfo": {
     "elapsed": 26,
     "status": "ok",
     "timestamp": 1754357238187,
     "user": {
      "displayName": "Raka Arrayan",
      "userId": "02832028816008534409"
     },
     "user_tz": -420
    },
    "id": "nKSkcTTyT3n0"
   },
   "outputs": [],
   "source": [
    "from imblearn.over_sampling import RandomOverSampler\n",
    "\n",
    "ros = RandomOverSampler(random_state=42)# Membuat objek ros untuk melakukan oversampling.\n",
    "X_resampled, y_resampled = ros.fit_resample(review_tf, y)\n",
    "\n",
    "# review_tf: Data input fitur\n",
    "# y: Target/label\n",
    "# fit_resample(...) akan Melatih oversampler berdasarkan y\n",
    "# Menambahkan data dari kelas minoritas sampai semua kelas memiliki jumlah yang sama.\n",
    "# sehingga menghasilkan\n",
    "# X_resampled: Data input fitur setelah oversampling\n",
    "# y_resampled: Target/label setelah oversampling\n"
   ]
  },
  {
   "cell_type": "code",
   "execution_count": 77,
   "metadata": {
    "colab": {
     "base_uri": "https://localhost:8080/"
    },
    "executionInfo": {
     "elapsed": 29,
     "status": "ok",
     "timestamp": 1754357238219,
     "user": {
      "displayName": "Raka Arrayan",
      "userId": "02832028816008534409"
     },
     "user_tz": -420
    },
    "id": "6suVBTQNUmsw",
    "outputId": "25aeeff8-091e-4cd3-c8ab-02ee4f9507b8"
   },
   "outputs": [
    {
     "name": "stdout",
     "output_type": "stream",
     "text": [
      "sentimen\n",
      "positif    4447\n",
      "netral     4447\n",
      "negatif    4447\n",
      "Name: count, dtype: int64\n"
     ]
    }
   ],
   "source": [
    "import pandas as pd\n",
    "\n",
    "# Melihat distribusi label setelah oversampling\n",
    "print(pd.Series(y_resampled).value_counts())\n"
   ]
  },
  {
   "cell_type": "markdown",
   "metadata": {
    "id": "8okcDoF2Vt-y"
   },
   "source": [
    "### Training dan Evaluasi Logistic Regression dengan Data Oversampling"
   ]
  },
  {
   "cell_type": "code",
   "execution_count": 78,
   "metadata": {
    "colab": {
     "base_uri": "https://localhost:8080/",
     "height": 757
    },
    "executionInfo": {
     "elapsed": 3776,
     "status": "ok",
     "timestamp": 1754357241991,
     "user": {
      "displayName": "Raka Arrayan",
      "userId": "02832028816008534409"
     },
     "user_tz": -420
    },
    "id": "ogiieAkHQ65A",
    "outputId": "d8026fb9-9d1a-4b44-81fc-7fc901a1c4c8"
   },
   "outputs": [
    {
     "name": "stdout",
     "output_type": "stream",
     "text": [
      "Logistic Regression Accuracy:  0.9797677032596478\n",
      "Logistic Regression Precision:  0.9803708906773339\n",
      "Logistic Regression Recall:  0.9797752808988763\n",
      "Logistic Regression F1 Score:  0.9796069108889712\n",
      "\n",
      "Confusion Matrix:\n",
      "[[889   0   0]\n",
      " [  0 890   0]\n",
      " [ 31  23 836]]\n",
      "----------------------------------------------------------\n",
      "              precision    recall  f1-score   support\n",
      "\n",
      "     negatif       0.97      1.00      0.98       889\n",
      "      netral       0.97      1.00      0.99       890\n",
      "     positif       1.00      0.94      0.97       890\n",
      "\n",
      "    accuracy                           0.98      2669\n",
      "   macro avg       0.98      0.98      0.98      2669\n",
      "weighted avg       0.98      0.98      0.98      2669\n",
      "\n"
     ]
    },
    {
     "data": {
      "image/png": "[encoded data removed]",
      "text/plain": [
       "<Figure size 600x400 with 2 Axes>"
      ]
     },
     "metadata": {},
     "output_type": "display_data"
    }
   ],
   "source": [
    "from sklearn.model_selection import train_test_split\n",
    "from sklearn.linear_model import LogisticRegression\n",
    "from sklearn.metrics import accuracy_score, precision_score, recall_score, f1_score\n",
    "from sklearn.metrics import classification_report, confusion_matrix\n",
    "import matplotlib.pyplot as plt\n",
    "import seaborn as sns\n",
    "\n",
    "# 1. Split data dengan stratify agar distribusi kelas tetap proporsional\n",
    "X_train, X_test, y_train, y_test = train_test_split(\n",
    "    X_resampled, y_resampled, test_size=0.2, stratify=y_resampled, random_state=42\n",
    ")\n",
    "\n",
    "\n",
    "# 2. Logistic Regression dengan class_weight='balanced'\n",
    "clf_lr = LogisticRegression(max_iter=1000, class_weight='balanced', random_state=42)\n",
    "clf_lr.fit(X_train, y_train)\n",
    "\n",
    "# 3. Prediksi\n",
    "predicted_lr = clf_lr.predict(X_test)\n",
    "\n",
    "# 4. Evaluasi\n",
    "print(\"Logistic Regression Accuracy: \", accuracy_score(y_test, predicted_lr))\n",
    "print(\"Logistic Regression Precision: \", precision_score(y_test, predicted_lr, average=\"macro\"))\n",
    "print(\"Logistic Regression Recall: \", recall_score(y_test, predicted_lr, average=\"macro\"))\n",
    "print(\"Logistic Regression F1 Score: \", f1_score(y_test, predicted_lr, average=\"macro\"))\n",
    "\n",
    "# 5. Confusion Matrix\n",
    "cm = confusion_matrix(y_test, predicted_lr, labels=clf_lr.classes_)\n",
    "print(f'\\nConfusion Matrix:\\n{cm}')\n",
    "print(\"----------------------------------------------------------\")\n",
    "print(classification_report(y_test, predicted_lr, zero_division=0))\n",
    "\n",
    "# 6. Visualisasi Confusion Matrix\n",
    "plt.figure(figsize=(6,4))\n",
    "sns.heatmap(cm, annot=True, fmt='d', cmap='Greens',\n",
    "            xticklabels=clf_lr.classes_, yticklabels=clf_lr.classes_)\n",
    "plt.xlabel('Predicted Label')\n",
    "plt.ylabel('True Label')\n",
    "plt.title('Confusion Matrix - Logistic Regression')\n",
    "plt.show()\n"
   ]
  },
  {
   "cell_type": "markdown",
   "metadata": {
    "id": "toaXdCULWt1U"
   },
   "source": [
    "## Menyimpan model"
   ]
  },
  {
   "cell_type": "markdown",
   "metadata": {
    "id": "Jxpo7US3WShC"
   },
   "source": [
    "### Menyimpan model machine learning dan TF-IDF vectorizer ke dalam file"
   ]
  },
  {
   "cell_type": "code",
   "execution_count": null,
   "metadata": {
    "colab": {
     "base_uri": "https://localhost:8080/"
    },
    "executionInfo": {
     "elapsed": 30,
     "status": "ok",
     "timestamp": 1754357242018,
     "user": {
      "displayName": "Raka Arrayan",
      "userId": "02832028816008534409"
     },
     "user_tz": -420
    },
    "id": "IeRvHekUSNjy",
    "outputId": "78f7e0e2-87ce-4205-9c1b-76c6a19b1d62"
   },
   "outputs": [
    {
     "name": "stdout",
     "output_type": "stream",
     "text": [
      "TF-IDF Vectorizer saved to 'tfidf_vectorizer.sav'\n",
      "Logistic Regression model saved to 'logistic_regression_model.sav'\n"
     ]
    }
   ],
   "source": [
    "import pickle\n",
    "\n",
    "# Simpan TF-IDF Vectorizer\n",
    "with open('tfidf_vectorizer.sav', 'wb') as f:# membuka file tfidf_vectorizer.sav untuk menulis\n",
    "    pickle.dump(tfidf_vectorizer, f)# menyimpan objek tfidf_vectorizer ke file tfidf_vectorizer.sav\n",
    "print(\"TF-IDF Vectorizer saved to 'tfidf_vectorizer.sav'\")\n",
    "\n",
    "# Simpan Logistic Regression Model\n",
    "with open('logistic_regression_model.sav', 'wb') as f:# membuka file logistic_regression_model.sav untuk menulis\n",
    "    pickle.dump(clf_lr, f)# menyimpan objek clf_lr ke file logistic_regression_model.sav\n",
    "print(\"Logistic Regression model saved to 'logistic_regression_model.sav'\")\n"
   ]
  },
  {
   "cell_type": "markdown",
   "metadata": {
    "id": "SqP3127nXNqy"
   },
   "source": [
    "###  load model machine learning dan TF-IDF vectorizer dari file .sav"
   ]
  },
  {
   "cell_type": "code",
   "execution_count": null,
   "metadata": {
    "colab": {
     "base_uri": "https://localhost:8080/"
    },
    "executionInfo": {
     "elapsed": 15,
     "status": "ok",
     "timestamp": 1754357242036,
     "user": {
      "displayName": "Raka Arrayan",
      "userId": "02832028816008534409"
     },
     "user_tz": -420
    },
    "id": "7idhqDLkWmlf",
    "outputId": "a0299204-7ab1-4720-8df9-edd6268536e4"
   },
   "outputs": [
    {
     "name": "stdout",
     "output_type": "stream",
     "text": [
      "TF-IDF Vectorizer loaded successfully.\n",
      "Logistic Regression model loaded successfully.\n"
     ]
    }
   ],
   "source": [
    "import pickle\n",
    "\n",
    "# Load TF-IDF Vectorizer\n",
    "with open('tfidf_vectorizer.sav', 'rb') as f:# membuka file tfidf_vectorizer.sav untuk membaca\n",
    "    tfidf_vectorizer = pickle.load(f)# membaca objek tfidf_vectorizer dari file tfidf_vectorizer.sav\n",
    "print(\"TF-IDF Vectorizer loaded successfully.\")\n",
    "\n",
    "# Load Logistic Regression Model\n",
    "with open('logistic_regression_model.sav', 'rb') as f:# membuka file logistic_regression_model.sav untuk membaca\n",
    "    clf_lr = pickle.load(f)# membaca objek clf_lr dari file logistic_regression_model.sav\n",
    "print(\"Logistic Regression model loaded successfully.\")\n"
   ]
  },
  {
   "cell_type": "markdown",
   "metadata": {
    "id": "jLFHj7ytXkGu"
   },
   "source": [
    "## Pengujian Model yang sudah disimpan dan di load"
   ]
  },
  {
   "cell_type": "code",
   "execution_count": null,
   "metadata": {
    "colab": {
     "base_uri": "https://localhost:8080/"
    },
    "executionInfo": {
     "elapsed": 18,
     "status": "ok",
     "timestamp": 1754357242057,
     "user": {
      "displayName": "Raka Arrayan",
      "userId": "02832028816008534409"
     },
     "user_tz": -420
    },
    "id": "vMJbF-W4Z-zN",
    "outputId": "bd6f9a32-59e6-4705-add1-c8f6e6fff44c"
   },
   "outputs": [
    {
     "name": "stdout",
     "output_type": "stream",
     "text": [
      "Index(['sentimen', 'lemmatized_review'], dtype='object')\n"
     ]
    }
   ],
   "source": [
    "print(df_final.columns)# Menampilkan nama kolom pada df_final"
   ]
  },
  {
   "cell_type": "code",
   "execution_count": 82,
   "metadata": {
    "colab": {
     "base_uri": "https://localhost:8080/",
     "height": 788
    },
    "executionInfo": {
     "elapsed": 801,
     "status": "ok",
     "timestamp": 1754357242860,
     "user": {
      "displayName": "Raka Arrayan",
      "userId": "02832028816008534409"
     },
     "user_tz": -420
    },
    "id": "64Sfzi89aHdH",
    "outputId": "d32fda60-2c7f-4168-cffc-b8076dc9f4e0"
   },
   "outputs": [
    {
     "name": "stdout",
     "output_type": "stream",
     "text": [
      "Test Accuracy:  0.9733360472216568\n",
      "Test Precision:  0.8471616846774818\n",
      "Test Recall:  0.9901806461284761\n",
      "Test F1 Score:  0.9085249558084438\n",
      "\n",
      "Confusion Matrix:\n",
      "[[ 324    0    0]\n",
      " [   0  142    0]\n",
      " [  82   49 4316]]\n",
      "\n",
      "Classification Report:\n",
      "              precision    recall  f1-score   support\n",
      "\n",
      "     negatif       0.80      1.00      0.89       324\n",
      "      netral       0.74      1.00      0.85       142\n",
      "     positif       1.00      0.97      0.99      4447\n",
      "\n",
      "    accuracy                           0.97      4913\n",
      "   macro avg       0.85      0.99      0.91      4913\n",
      "weighted avg       0.98      0.97      0.97      4913\n",
      "\n"
     ]
    },
    {
     "data": {
      "text/html": [
       "<div>\n",
       "<style scoped>\n",
       "    .dataframe tbody tr th:only-of-type {\n",
       "        vertical-align: middle;\n",
       "    }\n",
       "\n",
       "    .dataframe tbody tr th {\n",
       "        vertical-align: top;\n",
       "    }\n",
       "\n",
       "    .dataframe thead th {\n",
       "        text-align: right;\n",
       "    }\n",
       "</style>\n",
       "<table border=\"1\" class=\"dataframe\">\n",
       "  <thead>\n",
       "    <tr style=\"text-align: right;\">\n",
       "      <th></th>\n",
       "      <th>sentimen</th>\n",
       "      <th>lemmatized_review</th>\n",
       "      <th>Predicted Label</th>\n",
       "    </tr>\n",
       "  </thead>\n",
       "  <tbody>\n",
       "    <tr>\n",
       "      <th>1</th>\n",
       "      <td>positif</td>\n",
       "      <td>purchase device work advertised never much pho...</td>\n",
       "      <td>positif</td>\n",
       "    </tr>\n",
       "    <tr>\n",
       "      <th>2</th>\n",
       "      <td>positif</td>\n",
       "      <td>work expect sprung high capacity think make bi...</td>\n",
       "      <td>positif</td>\n",
       "    </tr>\n",
       "    <tr>\n",
       "      <th>3</th>\n",
       "      <td>positif</td>\n",
       "      <td>think work greathad diff bran gb card go south...</td>\n",
       "      <td>netral</td>\n",
       "    </tr>\n",
       "    <tr>\n",
       "      <th>4</th>\n",
       "      <td>positif</td>\n",
       "      <td>bought retail packaging arrive legit orange en...</td>\n",
       "      <td>positif</td>\n",
       "    </tr>\n",
       "    <tr>\n",
       "      <th>5</th>\n",
       "      <td>positif</td>\n",
       "      <td>mini storage doesnt anything else suppose purc...</td>\n",
       "      <td>positif</td>\n",
       "    </tr>\n",
       "    <tr>\n",
       "      <th>...</th>\n",
       "      <td>...</td>\n",
       "      <td>...</td>\n",
       "      <td>...</td>\n",
       "    </tr>\n",
       "    <tr>\n",
       "      <th>4910</th>\n",
       "      <td>negatif</td>\n",
       "      <td>bought sandisk gb class use htc inspire month ...</td>\n",
       "      <td>negatif</td>\n",
       "    </tr>\n",
       "    <tr>\n",
       "      <th>4911</th>\n",
       "      <td>positif</td>\n",
       "      <td>use extend capability samsung galaxy note grea...</td>\n",
       "      <td>positif</td>\n",
       "    </tr>\n",
       "    <tr>\n",
       "      <th>4912</th>\n",
       "      <td>positif</td>\n",
       "      <td>great card fast reliable come optional adapter...</td>\n",
       "      <td>positif</td>\n",
       "    </tr>\n",
       "    <tr>\n",
       "      <th>4913</th>\n",
       "      <td>positif</td>\n",
       "      <td>good amount space stuff want fit gopro say</td>\n",
       "      <td>positif</td>\n",
       "    </tr>\n",
       "    <tr>\n",
       "      <th>4914</th>\n",
       "      <td>positif</td>\n",
       "      <td>ive heard bad thing gb micro sd card crap week...</td>\n",
       "      <td>positif</td>\n",
       "    </tr>\n",
       "  </tbody>\n",
       "</table>\n",
       "<p>4913 rows × 3 columns</p>\n",
       "</div>"
      ],
      "text/plain": [
       "     sentimen                                  lemmatized_review  \\\n",
       "1     positif  purchase device work advertised never much pho...   \n",
       "2     positif  work expect sprung high capacity think make bi...   \n",
       "3     positif  think work greathad diff bran gb card go south...   \n",
       "4     positif  bought retail packaging arrive legit orange en...   \n",
       "5     positif  mini storage doesnt anything else suppose purc...   \n",
       "...       ...                                                ...   \n",
       "4910  negatif  bought sandisk gb class use htc inspire month ...   \n",
       "4911  positif  use extend capability samsung galaxy note grea...   \n",
       "4912  positif  great card fast reliable come optional adapter...   \n",
       "4913  positif         good amount space stuff want fit gopro say   \n",
       "4914  positif  ive heard bad thing gb micro sd card crap week...   \n",
       "\n",
       "     Predicted Label  \n",
       "1            positif  \n",
       "2            positif  \n",
       "3             netral  \n",
       "4            positif  \n",
       "5            positif  \n",
       "...              ...  \n",
       "4910         negatif  \n",
       "4911         positif  \n",
       "4912         positif  \n",
       "4913         positif  \n",
       "4914         positif  \n",
       "\n",
       "[4913 rows x 3 columns]"
      ]
     },
     "execution_count": 82,
     "metadata": {},
     "output_type": "execute_result"
    }
   ],
   "source": [
    "import pandas as pd\n",
    "from sklearn.metrics import accuracy_score, precision_score, recall_score, f1_score, confusion_matrix, classification_report\n",
    "\n",
    "# # Duplikasi df_final untuk trainning\n",
    "test_df = df_final.copy()\n",
    "\n",
    "# Fitur dan label\n",
    "test_X = test_df['lemmatized_review']\n",
    "test_y = test_df['sentimen']\n",
    "\n",
    "# Transformasi teks ke TF-IDF\n",
    "test_tf = tfidf_vectorizer.transform(test_X.astype('U'))\n",
    "\n",
    "# Prediksi label\n",
    "test_predictions = clf_lr.predict(test_tf)\n",
    "\n",
    "# Evaluasi model\n",
    "print(\"Test Accuracy: \", accuracy_score(test_y, test_predictions))\n",
    "print(\"Test Precision: \", precision_score(test_y, test_predictions, average='macro'))\n",
    "print(\"Test Recall: \", recall_score(test_y, test_predictions, average='macro'))\n",
    "print(\"Test F1 Score: \", f1_score(test_y, test_predictions, average='macro'))\n",
    "\n",
    "print(\"\\nConfusion Matrix:\")\n",
    "print(confusion_matrix(test_y, test_predictions))\n",
    "\n",
    "print(\"\\nClassification Report:\")\n",
    "print(classification_report(test_y, test_predictions, zero_division=0))\n",
    "\n",
    "# Tambahkan kolom hasil prediksi ke DataFrame\n",
    "test_df['Predicted Label'] = test_predictions\n",
    "\n",
    "# Tampilkan 5 baris pertama\n",
    "test_df\n"
   ]
  }
 ],
 "metadata": {
  "colab": {
   "authorship_tag": "ABX9TyPflYCBDqGsF5vvA31NG769",
   "provenance": [],
   "toc_visible": true
  },
  "kernelspec": {
   "display_name": "Python 3",
   "name": "python3"
  },
  "language_info": {
   "codemirror_mode": {
    "name": "ipython",
    "version": 3
   },
   "file_extension": ".py",
   "mimetype": "text/x-python",
   "name": "python",
   "nbconvert_exporter": "python",
   "pygments_lexer": "ipython3",
   "version": "3.12.4"
  }
 },
 "nbformat": 4,
 "nbformat_minor": 0
}
